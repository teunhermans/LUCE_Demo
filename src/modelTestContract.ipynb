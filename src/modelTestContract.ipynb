{
 "cells": [
  {
   "cell_type": "code",
   "execution_count": 1,
   "metadata": {},
   "outputs": [
    {
     "data": {
      "text/plain": [
       "'c:\\\\Users\\\\teunh\\\\Anaconda3\\\\python.exe'"
      ]
     },
     "execution_count": 1,
     "metadata": {},
     "output_type": "execute_result"
    }
   ],
   "source": [
    "# Check that correct python kernel is running in Notebook\n",
    "import sys\n",
    "sys.executable\n",
    "#sys.prefix"
   ]
  },
  {
   "cell_type": "code",
   "execution_count": 2,
   "metadata": {},
   "outputs": [
    {
     "name": "stdout",
     "output_type": "stream",
     "text": [
      "Requirement already satisfied: web3 in c:\\users\\teunh\\anaconda3\\lib\\site-packages (6.14.0)\n",
      "Requirement already satisfied: aiohttp>=3.7.4.post0 in c:\\users\\teunh\\anaconda3\\lib\\site-packages (from web3) (3.8.5)\n",
      "Requirement already satisfied: eth-abi>=4.0.0 in c:\\users\\teunh\\anaconda3\\lib\\site-packages (from web3) (4.2.1)\n",
      "Requirement already satisfied: eth-account>=0.8.0 in c:\\users\\teunh\\anaconda3\\lib\\site-packages (from web3) (0.10.0)\n",
      "Requirement already satisfied: eth-hash[pycryptodome]>=0.5.1 in c:\\users\\teunh\\anaconda3\\lib\\site-packages (from web3) (0.5.2)\n",
      "Requirement already satisfied: eth-typing>=3.0.0 in c:\\users\\teunh\\anaconda3\\lib\\site-packages (from web3) (3.5.2)\n",
      "Requirement already satisfied: eth-utils>=2.1.0 in c:\\users\\teunh\\anaconda3\\lib\\site-packages (from web3) (2.3.1)\n",
      "Requirement already satisfied: hexbytes<0.4.0,>=0.1.0 in c:\\users\\teunh\\anaconda3\\lib\\site-packages (from web3) (0.3.1)\n",
      "Requirement already satisfied: jsonschema>=4.0.0 in c:\\users\\teunh\\anaconda3\\lib\\site-packages (from web3) (4.17.3)\n",
      "Requirement already satisfied: lru-dict<1.3.0,>=1.1.6 in c:\\users\\teunh\\anaconda3\\lib\\site-packages (from web3) (1.2.0)\n",
      "Requirement already satisfied: protobuf>=4.21.6 in c:\\users\\teunh\\anaconda3\\lib\\site-packages (from web3) (4.25.1)\n",
      "Requirement already satisfied: requests>=2.16.0 in c:\\users\\teunh\\anaconda3\\lib\\site-packages (from web3) (2.31.0)\n",
      "Requirement already satisfied: typing-extensions>=4.0.1 in c:\\users\\teunh\\anaconda3\\lib\\site-packages (from web3) (4.7.1)\n",
      "Requirement already satisfied: websockets>=10.0.0 in c:\\users\\teunh\\anaconda3\\lib\\site-packages (from web3) (12.0)\n",
      "Requirement already satisfied: pyunormalize>=15.0.0 in c:\\users\\teunh\\anaconda3\\lib\\site-packages (from web3) (15.1.0)\n",
      "Requirement already satisfied: pywin32>=223 in c:\\users\\teunh\\anaconda3\\lib\\site-packages (from web3) (305.1)\n",
      "Requirement already satisfied: attrs>=17.3.0 in c:\\users\\teunh\\anaconda3\\lib\\site-packages (from aiohttp>=3.7.4.post0->web3) (22.1.0)\n",
      "Requirement already satisfied: charset-normalizer<4.0,>=2.0 in c:\\users\\teunh\\anaconda3\\lib\\site-packages (from aiohttp>=3.7.4.post0->web3) (2.0.4)\n",
      "Requirement already satisfied: multidict<7.0,>=4.5 in c:\\users\\teunh\\anaconda3\\lib\\site-packages (from aiohttp>=3.7.4.post0->web3) (6.0.2)\n",
      "Requirement already satisfied: async-timeout<5.0,>=4.0.0a3 in c:\\users\\teunh\\anaconda3\\lib\\site-packages (from aiohttp>=3.7.4.post0->web3) (4.0.2)\n",
      "Requirement already satisfied: yarl<2.0,>=1.0 in c:\\users\\teunh\\anaconda3\\lib\\site-packages (from aiohttp>=3.7.4.post0->web3) (1.8.1)\n",
      "Requirement already satisfied: frozenlist>=1.1.1 in c:\\users\\teunh\\anaconda3\\lib\\site-packages (from aiohttp>=3.7.4.post0->web3) (1.3.3)\n",
      "Requirement already satisfied: aiosignal>=1.1.2 in c:\\users\\teunh\\anaconda3\\lib\\site-packages (from aiohttp>=3.7.4.post0->web3) (1.2.0)\n",
      "Requirement already satisfied: parsimonious<0.10.0,>=0.9.0 in c:\\users\\teunh\\anaconda3\\lib\\site-packages (from eth-abi>=4.0.0->web3) (0.9.0)\n",
      "Requirement already satisfied: bitarray>=2.4.0 in c:\\users\\teunh\\anaconda3\\lib\\site-packages (from eth-account>=0.8.0->web3) (2.8.4)\n",
      "Requirement already satisfied: eth-keyfile>=0.6.0 in c:\\users\\teunh\\anaconda3\\lib\\site-packages (from eth-account>=0.8.0->web3) (0.6.1)\n",
      "Requirement already satisfied: eth-keys>=0.4.0 in c:\\users\\teunh\\anaconda3\\lib\\site-packages (from eth-account>=0.8.0->web3) (0.4.0)\n",
      "Requirement already satisfied: eth-rlp>=0.3.0 in c:\\users\\teunh\\anaconda3\\lib\\site-packages (from eth-account>=0.8.0->web3) (0.3.0)\n",
      "Requirement already satisfied: rlp>=1.0.0 in c:\\users\\teunh\\anaconda3\\lib\\site-packages (from eth-account>=0.8.0->web3) (3.0.0)\n",
      "Requirement already satisfied: pycryptodome<4,>=3.6.6 in c:\\users\\teunh\\anaconda3\\lib\\site-packages (from eth-hash[pycryptodome]>=0.5.1->web3) (3.19.0)\n",
      "Requirement already satisfied: cytoolz>=0.10.1 in c:\\users\\teunh\\anaconda3\\lib\\site-packages (from eth-utils>=2.1.0->web3) (0.12.0)\n",
      "Requirement already satisfied: pyrsistent!=0.17.0,!=0.17.1,!=0.17.2,>=0.14.0 in c:\\users\\teunh\\anaconda3\\lib\\site-packages (from jsonschema>=4.0.0->web3) (0.18.0)\n",
      "Requirement already satisfied: idna<4,>=2.5 in c:\\users\\teunh\\anaconda3\\lib\\site-packages (from requests>=2.16.0->web3) (3.4)\n",
      "Requirement already satisfied: urllib3<3,>=1.21.1 in c:\\users\\teunh\\anaconda3\\lib\\site-packages (from requests>=2.16.0->web3) (1.26.16)\n",
      "Requirement already satisfied: certifi>=2017.4.17 in c:\\users\\teunh\\anaconda3\\lib\\site-packages (from requests>=2.16.0->web3) (2023.7.22)\n",
      "Requirement already satisfied: toolz>=0.8.0 in c:\\users\\teunh\\anaconda3\\lib\\site-packages (from cytoolz>=0.10.1->eth-utils>=2.1.0->web3) (0.12.0)\n",
      "Requirement already satisfied: regex>=2022.3.15 in c:\\users\\teunh\\anaconda3\\lib\\site-packages (from parsimonious<0.10.0,>=0.9.0->eth-abi>=4.0.0->web3) (2022.7.9)\n"
     ]
    }
   ],
   "source": [
    "#import all important libraries\n",
    "# Install Python Web3 package\n",
    "!{sys.executable} -m pip install web3"
   ]
  },
  {
   "cell_type": "markdown",
   "metadata": {},
   "source": [
    "The contract was deployed in Remix, using the ganache connection, these were the hashes found."
   ]
  },
  {
   "cell_type": "code",
   "execution_count": 3,
   "metadata": {},
   "outputs": [],
   "source": [
    "import time\n",
    "from web3 import Web3, HTTPProvider\n",
    "\n",
    "# Contract address from Ganache\n",
    "contract_address     = \"0x36Bc8DFf346294BAC79d3C6D353efabCaeB98a2B\"\n",
    "contract_address_cs = Web3.to_checksum_address(contract_address)\n",
    "# Private key obtained via Metamask\n",
    "wallet_private_key   = \"0x45c758ee44303da19bb2f4b24992b0969f9c8d9e2c559cb4c1f66f20432709fc\"\n",
    "\n",
    "# Wallet address from Metamask\n",
    "wallet_address       = \"0x89EfbC7394888D9aD1faB5Dd4cb6a6c492EeA543\"\n",
    "\n",
    "# Ganache Connection\n",
    "w3 = Web3(Web3.HTTPProvider(\"HTTP://127.0.0.1:7545\"))\n"
   ]
  },
  {
   "cell_type": "code",
   "execution_count": 4,
   "metadata": {},
   "outputs": [
    {
     "data": {
      "text/plain": [
       "AttributeDict({'hash': HexBytes('0x7fca794a2014819a8d3e0f703279141e8f23b366d605876115dd50b534571b6b'),\n",
       " 'parentHash': HexBytes('0x27c11289c74495ed4fd8ddd951c6848b1096b80faee53fc7b16d37070993ab37'),\n",
       " 'sha3Uncles': HexBytes('0x1dcc4de8dec75d7aab85b567b6ccd41ad312451b948a7413f0a142fd40d49347'),\n",
       " 'miner': '0x0000000000000000000000000000000000000000',\n",
       " 'stateRoot': HexBytes('0x3c72445a5b4c8dd7ceeaef06e881d4537372b974c50034475c65a25ce7cdaa14'),\n",
       " 'transactionsRoot': HexBytes('0xdce41c4b77d23cf6f21f27dc41012b43f096249741ef1c4c4361d89d207a3418'),\n",
       " 'receiptsRoot': HexBytes('0x2b3942d0f6f2092d724f630fbaf1aa39ec065f94a82df4e7f055101b28939007'),\n",
       " 'logsBloom': HexBytes('0x00000000000000000000000000000000000000000000000000000000000000000000000000000000000000000000000000000000000000000000000000000000000000000000000000000000000000000000000000000000000000000000000000000000000000000000000000000000000000000000000000000000000000000000000000000000000000000000000000000000000000000000000000000000000000000000000000000000000000000000000000000000000000000000000000000000000000000000000000000000000000000000000000000000000000000000000000000000000000000000000000000000000000000000000000000000'),\n",
       " 'difficulty': 0,\n",
       " 'number': 1,\n",
       " 'gasLimit': 6721975,\n",
       " 'gasUsed': 3000000,\n",
       " 'timestamp': 1709551711,\n",
       " 'extraData': HexBytes('0x'),\n",
       " 'mixHash': HexBytes('0x3a876fd28569fdbedbd01a8a87d2f847889d2b326888b795689406a93663e2bf'),\n",
       " 'nonce': HexBytes('0x0000000000000000'),\n",
       " 'totalDifficulty': 0,\n",
       " 'baseFeePerGas': 875000000,\n",
       " 'size': 65100,\n",
       " 'transactions': [HexBytes('0x9162372998f4fbb961cacc300f1fda1dfe7f4f0188a5024310d486bf4ed4429f')],\n",
       " 'uncles': []})"
      ]
     },
     "execution_count": 4,
     "metadata": {},
     "output_type": "execute_result"
    }
   ],
   "source": [
    "block = w3.eth.get_block('latest')\n",
    "block"
   ]
  },
  {
   "cell_type": "code",
   "execution_count": 75,
   "metadata": {},
   "outputs": [],
   "source": [
    "import json\n",
    "\n",
    "# Specify the path to your ABI JSON file\n",
    "abi_file_path = r'C:\\Users\\teunh\\Documents\\year 5\\DEMO\\.deps\\npm\\@thirdweb-dev\\dynamic-contracts\\src\\ABI\\ManagedAccountFactory.json'\n",
    "bytes_file_path = r'C:\\Users\\teunh\\Documents\\year 5\\DEMO\\.deps\\npm\\@thirdweb-dev\\dynamic-contracts\\src\\Bytecode\\bytecode.txt'\n",
    "# Read ABI from the JSON file\n",
    "with open(abi_file_path, 'r') as file:\n",
    "    abi = json.load(file)\n",
    "\n",
    "with open(bytes_file_path, 'r') as file:\n",
    "    bytecode = file.read()\n",
    "# Instantiate web3 contract object using the contract address & ABI from the JSON file\n",
    "Contract = w3.eth.contract(abi=abi, bytecode=bytecode)\n"
   ]
  },
  {
   "cell_type": "code",
   "execution_count": 82,
   "metadata": {},
   "outputs": [
    {
     "ename": "ContractLogicError",
     "evalue": "execution reverted: VM Exception while processing transaction: invalid opcode",
     "output_type": "error",
     "traceback": [
      "\u001b[1;31m---------------------------------------------------------------------------\u001b[0m",
      "\u001b[1;31mContractLogicError\u001b[0m                        Traceback (most recent call last)",
      "Cell \u001b[1;32mIn[82], line 17\u001b[0m\n\u001b[0;32m      1\u001b[0m defaultExtensions \u001b[38;5;241m=\u001b[39m [\n\u001b[0;32m      2\u001b[0m     (\n\u001b[0;32m      3\u001b[0m         {\n\u001b[1;32m   (...)\u001b[0m\n\u001b[0;32m     11\u001b[0m     )\n\u001b[0;32m     12\u001b[0m ]\n\u001b[0;32m     14\u001b[0m \u001b[38;5;66;03m# Build the transaction dictionary\u001b[39;00m\n\u001b[0;32m     15\u001b[0m constructor_tx \u001b[38;5;241m=\u001b[39m Contract\u001b[38;5;241m.\u001b[39mconstructor(\n\u001b[0;32m     16\u001b[0m     accounts[\u001b[38;5;241m0\u001b[39m], accounts[\u001b[38;5;241m0\u001b[39m], []\n\u001b[1;32m---> 17\u001b[0m )\u001b[38;5;241m.\u001b[39mtransact()\n\u001b[0;32m     18\u001b[0m \u001b[38;5;66;03m# Print the transaction parameters\u001b[39;00m\n\u001b[0;32m     19\u001b[0m \u001b[38;5;28mprint\u001b[39m(\u001b[38;5;124m\"\u001b[39m\u001b[38;5;124mTransaction Parameters:\u001b[39m\u001b[38;5;124m\"\u001b[39m, constructor_tx)\n",
      "File \u001b[1;32mc:\\Users\\teunh\\Anaconda3\\Lib\\site-packages\\eth_utils\\decorators.py:18\u001b[0m, in \u001b[0;36mcombomethod.__get__.<locals>._wrapper\u001b[1;34m(*args, **kwargs)\u001b[0m\n\u001b[0;32m     15\u001b[0m \u001b[38;5;129m@functools\u001b[39m\u001b[38;5;241m.\u001b[39mwraps(\u001b[38;5;28mself\u001b[39m\u001b[38;5;241m.\u001b[39mmethod)\n\u001b[0;32m     16\u001b[0m \u001b[38;5;28;01mdef\u001b[39;00m \u001b[38;5;21m_wrapper\u001b[39m(\u001b[38;5;241m*\u001b[39margs: Any, \u001b[38;5;241m*\u001b[39m\u001b[38;5;241m*\u001b[39mkwargs: Any) \u001b[38;5;241m-\u001b[39m\u001b[38;5;241m>\u001b[39m Any:\n\u001b[0;32m     17\u001b[0m     \u001b[38;5;28;01mif\u001b[39;00m obj \u001b[38;5;129;01mis\u001b[39;00m \u001b[38;5;129;01mnot\u001b[39;00m \u001b[38;5;28;01mNone\u001b[39;00m:\n\u001b[1;32m---> 18\u001b[0m         \u001b[38;5;28;01mreturn\u001b[39;00m \u001b[38;5;28mself\u001b[39m\u001b[38;5;241m.\u001b[39mmethod(obj, \u001b[38;5;241m*\u001b[39margs, \u001b[38;5;241m*\u001b[39m\u001b[38;5;241m*\u001b[39mkwargs)\n\u001b[0;32m     19\u001b[0m     \u001b[38;5;28;01melse\u001b[39;00m:\n\u001b[0;32m     20\u001b[0m         \u001b[38;5;28;01mreturn\u001b[39;00m \u001b[38;5;28mself\u001b[39m\u001b[38;5;241m.\u001b[39mmethod(objtype, \u001b[38;5;241m*\u001b[39margs, \u001b[38;5;241m*\u001b[39m\u001b[38;5;241m*\u001b[39mkwargs)\n",
      "File \u001b[1;32mc:\\Users\\teunh\\Anaconda3\\Lib\\site-packages\\web3\\contract\\contract.py:624\u001b[0m, in \u001b[0;36mContractConstructor.transact\u001b[1;34m(self, transaction)\u001b[0m\n\u001b[0;32m    622\u001b[0m \u001b[38;5;129m@combomethod\u001b[39m\n\u001b[0;32m    623\u001b[0m \u001b[38;5;28;01mdef\u001b[39;00m \u001b[38;5;21mtransact\u001b[39m(\u001b[38;5;28mself\u001b[39m, transaction: Optional[TxParams] \u001b[38;5;241m=\u001b[39m \u001b[38;5;28;01mNone\u001b[39;00m) \u001b[38;5;241m-\u001b[39m\u001b[38;5;241m>\u001b[39m HexBytes:\n\u001b[1;32m--> 624\u001b[0m     \u001b[38;5;28;01mreturn\u001b[39;00m \u001b[38;5;28mself\u001b[39m\u001b[38;5;241m.\u001b[39mw3\u001b[38;5;241m.\u001b[39meth\u001b[38;5;241m.\u001b[39msend_transaction(\u001b[38;5;28mself\u001b[39m\u001b[38;5;241m.\u001b[39m_get_transaction(transaction))\n",
      "File \u001b[1;32mc:\\Users\\teunh\\Anaconda3\\Lib\\site-packages\\web3\\eth\\eth.py:381\u001b[0m, in \u001b[0;36mEth.send_transaction\u001b[1;34m(self, transaction)\u001b[0m\n\u001b[0;32m    380\u001b[0m \u001b[38;5;28;01mdef\u001b[39;00m \u001b[38;5;21msend_transaction\u001b[39m(\u001b[38;5;28mself\u001b[39m, transaction: TxParams) \u001b[38;5;241m-\u001b[39m\u001b[38;5;241m>\u001b[39m HexBytes:\n\u001b[1;32m--> 381\u001b[0m     \u001b[38;5;28;01mreturn\u001b[39;00m \u001b[38;5;28mself\u001b[39m\u001b[38;5;241m.\u001b[39m_send_transaction(transaction)\n",
      "File \u001b[1;32mc:\\Users\\teunh\\Anaconda3\\Lib\\site-packages\\web3\\module.py:75\u001b[0m, in \u001b[0;36mretrieve_blocking_method_call_fn.<locals>.caller\u001b[1;34m(*args, **kwargs)\u001b[0m\n\u001b[0;32m     68\u001b[0m     \u001b[38;5;28;01mreturn\u001b[39;00m LogFilter(eth_module\u001b[38;5;241m=\u001b[39mmodule, filter_id\u001b[38;5;241m=\u001b[39merr\u001b[38;5;241m.\u001b[39mfilter_id)\n\u001b[0;32m     70\u001b[0m (\n\u001b[0;32m     71\u001b[0m     result_formatters,\n\u001b[0;32m     72\u001b[0m     error_formatters,\n\u001b[0;32m     73\u001b[0m     null_result_formatters,\n\u001b[0;32m     74\u001b[0m ) \u001b[38;5;241m=\u001b[39m response_formatters\n\u001b[1;32m---> 75\u001b[0m result \u001b[38;5;241m=\u001b[39m w3\u001b[38;5;241m.\u001b[39mmanager\u001b[38;5;241m.\u001b[39mrequest_blocking(\n\u001b[0;32m     76\u001b[0m     method_str, params, error_formatters, null_result_formatters\n\u001b[0;32m     77\u001b[0m )\n\u001b[0;32m     78\u001b[0m \u001b[38;5;28;01mreturn\u001b[39;00m apply_result_formatters(result_formatters, result)\n",
      "File \u001b[1;32mc:\\Users\\teunh\\Anaconda3\\Lib\\site-packages\\web3\\manager.py:324\u001b[0m, in \u001b[0;36mRequestManager.request_blocking\u001b[1;34m(self, method, params, error_formatters, null_result_formatters)\u001b[0m\n\u001b[0;32m    314\u001b[0m \u001b[38;5;28;01mdef\u001b[39;00m \u001b[38;5;21mrequest_blocking\u001b[39m(\n\u001b[0;32m    315\u001b[0m     \u001b[38;5;28mself\u001b[39m,\n\u001b[0;32m    316\u001b[0m     method: Union[RPCEndpoint, Callable[\u001b[38;5;241m.\u001b[39m\u001b[38;5;241m.\u001b[39m\u001b[38;5;241m.\u001b[39m, RPCEndpoint]],\n\u001b[1;32m   (...)\u001b[0m\n\u001b[0;32m    319\u001b[0m     null_result_formatters: Optional[Callable[\u001b[38;5;241m.\u001b[39m\u001b[38;5;241m.\u001b[39m\u001b[38;5;241m.\u001b[39m, Any]] \u001b[38;5;241m=\u001b[39m \u001b[38;5;28;01mNone\u001b[39;00m,\n\u001b[0;32m    320\u001b[0m ) \u001b[38;5;241m-\u001b[39m\u001b[38;5;241m>\u001b[39m Any:\n\u001b[0;32m    321\u001b[0m \u001b[38;5;250m    \u001b[39m\u001b[38;5;124;03m\"\"\"\u001b[39;00m\n\u001b[0;32m    322\u001b[0m \u001b[38;5;124;03m    Make a synchronous request using the provider\u001b[39;00m\n\u001b[0;32m    323\u001b[0m \u001b[38;5;124;03m    \"\"\"\u001b[39;00m\n\u001b[1;32m--> 324\u001b[0m     response \u001b[38;5;241m=\u001b[39m \u001b[38;5;28mself\u001b[39m\u001b[38;5;241m.\u001b[39m_make_request(method, params)\n\u001b[0;32m    325\u001b[0m     \u001b[38;5;28;01mreturn\u001b[39;00m \u001b[38;5;28mself\u001b[39m\u001b[38;5;241m.\u001b[39mformatted_response(\n\u001b[0;32m    326\u001b[0m         response, params, error_formatters, null_result_formatters\n\u001b[0;32m    327\u001b[0m     )\n",
      "File \u001b[1;32mc:\\Users\\teunh\\Anaconda3\\Lib\\site-packages\\web3\\manager.py:212\u001b[0m, in \u001b[0;36mRequestManager._make_request\u001b[1;34m(self, method, params)\u001b[0m\n\u001b[0;32m    208\u001b[0m request_func \u001b[38;5;241m=\u001b[39m provider\u001b[38;5;241m.\u001b[39mrequest_func(\n\u001b[0;32m    209\u001b[0m     cast(\u001b[38;5;124m\"\u001b[39m\u001b[38;5;124mWeb3\u001b[39m\u001b[38;5;124m\"\u001b[39m, \u001b[38;5;28mself\u001b[39m\u001b[38;5;241m.\u001b[39mw3), cast(MiddlewareOnion, \u001b[38;5;28mself\u001b[39m\u001b[38;5;241m.\u001b[39mmiddleware_onion)\n\u001b[0;32m    210\u001b[0m )\n\u001b[0;32m    211\u001b[0m \u001b[38;5;28mself\u001b[39m\u001b[38;5;241m.\u001b[39mlogger\u001b[38;5;241m.\u001b[39mdebug(\u001b[38;5;124mf\u001b[39m\u001b[38;5;124m\"\u001b[39m\u001b[38;5;124mMaking request. Method: \u001b[39m\u001b[38;5;132;01m{\u001b[39;00mmethod\u001b[38;5;132;01m}\u001b[39;00m\u001b[38;5;124m\"\u001b[39m)\n\u001b[1;32m--> 212\u001b[0m \u001b[38;5;28;01mreturn\u001b[39;00m request_func(method, params)\n",
      "File \u001b[1;32mc:\\Users\\teunh\\Anaconda3\\Lib\\site-packages\\web3\\middleware\\gas_price_strategy.py:100\u001b[0m, in \u001b[0;36mgas_price_strategy_middleware.<locals>.middleware\u001b[1;34m(method, params)\u001b[0m\n\u001b[0;32m     96\u001b[0m     latest_block \u001b[38;5;241m=\u001b[39m w3\u001b[38;5;241m.\u001b[39meth\u001b[38;5;241m.\u001b[39mget_block(\u001b[38;5;124m\"\u001b[39m\u001b[38;5;124mlatest\u001b[39m\u001b[38;5;124m\"\u001b[39m)\n\u001b[0;32m     97\u001b[0m     transaction \u001b[38;5;241m=\u001b[39m validate_transaction_params(\n\u001b[0;32m     98\u001b[0m         transaction, latest_block, generated_gas_price\n\u001b[0;32m     99\u001b[0m     )\n\u001b[1;32m--> 100\u001b[0m     \u001b[38;5;28;01mreturn\u001b[39;00m make_request(method, (transaction,))\n\u001b[0;32m    101\u001b[0m \u001b[38;5;28;01mreturn\u001b[39;00m make_request(method, params)\n",
      "File \u001b[1;32mc:\\Users\\teunh\\Anaconda3\\Lib\\site-packages\\web3\\middleware\\formatting.py:126\u001b[0m, in \u001b[0;36mconstruct_web3_formatting_middleware.<locals>.formatter_middleware.<locals>.middleware\u001b[1;34m(method, params)\u001b[0m\n\u001b[0;32m    124\u001b[0m     formatter \u001b[38;5;241m=\u001b[39m request_formatters[method]\n\u001b[0;32m    125\u001b[0m     params \u001b[38;5;241m=\u001b[39m formatter(params)\n\u001b[1;32m--> 126\u001b[0m response \u001b[38;5;241m=\u001b[39m make_request(method, params)\n\u001b[0;32m    128\u001b[0m \u001b[38;5;28;01mreturn\u001b[39;00m _apply_response_formatters(\n\u001b[0;32m    129\u001b[0m     method,\n\u001b[0;32m    130\u001b[0m     formatters[\u001b[38;5;124m\"\u001b[39m\u001b[38;5;124mresult_formatters\u001b[39m\u001b[38;5;124m\"\u001b[39m],\n\u001b[0;32m    131\u001b[0m     formatters[\u001b[38;5;124m\"\u001b[39m\u001b[38;5;124merror_formatters\u001b[39m\u001b[38;5;124m\"\u001b[39m],\n\u001b[0;32m    132\u001b[0m     response,\n\u001b[0;32m    133\u001b[0m )\n",
      "File \u001b[1;32mc:\\Users\\teunh\\Anaconda3\\Lib\\site-packages\\web3\\middleware\\attrdict.py:43\u001b[0m, in \u001b[0;36mattrdict_middleware.<locals>.middleware\u001b[1;34m(method, params)\u001b[0m\n\u001b[0;32m     42\u001b[0m \u001b[38;5;28;01mdef\u001b[39;00m \u001b[38;5;21mmiddleware\u001b[39m(method: RPCEndpoint, params: Any) \u001b[38;5;241m-\u001b[39m\u001b[38;5;241m>\u001b[39m RPCResponse:\n\u001b[1;32m---> 43\u001b[0m     response \u001b[38;5;241m=\u001b[39m make_request(method, params)\n\u001b[0;32m     45\u001b[0m     \u001b[38;5;28;01mif\u001b[39;00m \u001b[38;5;124m\"\u001b[39m\u001b[38;5;124mresult\u001b[39m\u001b[38;5;124m\"\u001b[39m \u001b[38;5;129;01min\u001b[39;00m response:\n\u001b[0;32m     46\u001b[0m         \u001b[38;5;28;01mreturn\u001b[39;00m assoc(\n\u001b[0;32m     47\u001b[0m             response, \u001b[38;5;124m\"\u001b[39m\u001b[38;5;124mresult\u001b[39m\u001b[38;5;124m\"\u001b[39m, AttributeDict\u001b[38;5;241m.\u001b[39mrecursive(response[\u001b[38;5;124m\"\u001b[39m\u001b[38;5;124mresult\u001b[39m\u001b[38;5;124m\"\u001b[39m])\n\u001b[0;32m     48\u001b[0m         )\n",
      "File \u001b[1;32mc:\\Users\\teunh\\Anaconda3\\Lib\\site-packages\\web3\\middleware\\formatting.py:126\u001b[0m, in \u001b[0;36mconstruct_web3_formatting_middleware.<locals>.formatter_middleware.<locals>.middleware\u001b[1;34m(method, params)\u001b[0m\n\u001b[0;32m    124\u001b[0m     formatter \u001b[38;5;241m=\u001b[39m request_formatters[method]\n\u001b[0;32m    125\u001b[0m     params \u001b[38;5;241m=\u001b[39m formatter(params)\n\u001b[1;32m--> 126\u001b[0m response \u001b[38;5;241m=\u001b[39m make_request(method, params)\n\u001b[0;32m    128\u001b[0m \u001b[38;5;28;01mreturn\u001b[39;00m _apply_response_formatters(\n\u001b[0;32m    129\u001b[0m     method,\n\u001b[0;32m    130\u001b[0m     formatters[\u001b[38;5;124m\"\u001b[39m\u001b[38;5;124mresult_formatters\u001b[39m\u001b[38;5;124m\"\u001b[39m],\n\u001b[0;32m    131\u001b[0m     formatters[\u001b[38;5;124m\"\u001b[39m\u001b[38;5;124merror_formatters\u001b[39m\u001b[38;5;124m\"\u001b[39m],\n\u001b[0;32m    132\u001b[0m     response,\n\u001b[0;32m    133\u001b[0m )\n",
      "File \u001b[1;32mc:\\Users\\teunh\\Anaconda3\\Lib\\site-packages\\web3\\middleware\\formatting.py:126\u001b[0m, in \u001b[0;36mconstruct_web3_formatting_middleware.<locals>.formatter_middleware.<locals>.middleware\u001b[1;34m(method, params)\u001b[0m\n\u001b[0;32m    124\u001b[0m     formatter \u001b[38;5;241m=\u001b[39m request_formatters[method]\n\u001b[0;32m    125\u001b[0m     params \u001b[38;5;241m=\u001b[39m formatter(params)\n\u001b[1;32m--> 126\u001b[0m response \u001b[38;5;241m=\u001b[39m make_request(method, params)\n\u001b[0;32m    128\u001b[0m \u001b[38;5;28;01mreturn\u001b[39;00m _apply_response_formatters(\n\u001b[0;32m    129\u001b[0m     method,\n\u001b[0;32m    130\u001b[0m     formatters[\u001b[38;5;124m\"\u001b[39m\u001b[38;5;124mresult_formatters\u001b[39m\u001b[38;5;124m\"\u001b[39m],\n\u001b[0;32m    131\u001b[0m     formatters[\u001b[38;5;124m\"\u001b[39m\u001b[38;5;124merror_formatters\u001b[39m\u001b[38;5;124m\"\u001b[39m],\n\u001b[0;32m    132\u001b[0m     response,\n\u001b[0;32m    133\u001b[0m )\n",
      "File \u001b[1;32mc:\\Users\\teunh\\Anaconda3\\Lib\\site-packages\\web3\\middleware\\buffered_gas_estimate.py:40\u001b[0m, in \u001b[0;36mbuffered_gas_estimate_middleware.<locals>.middleware\u001b[1;34m(method, params)\u001b[0m\n\u001b[0;32m     35\u001b[0m     transaction \u001b[38;5;241m=\u001b[39m params[\u001b[38;5;241m0\u001b[39m]\n\u001b[0;32m     36\u001b[0m     \u001b[38;5;28;01mif\u001b[39;00m \u001b[38;5;124m\"\u001b[39m\u001b[38;5;124mgas\u001b[39m\u001b[38;5;124m\"\u001b[39m \u001b[38;5;129;01mnot\u001b[39;00m \u001b[38;5;129;01min\u001b[39;00m transaction:\n\u001b[0;32m     37\u001b[0m         transaction \u001b[38;5;241m=\u001b[39m assoc(\n\u001b[0;32m     38\u001b[0m             transaction,\n\u001b[0;32m     39\u001b[0m             \u001b[38;5;124m\"\u001b[39m\u001b[38;5;124mgas\u001b[39m\u001b[38;5;124m\"\u001b[39m,\n\u001b[1;32m---> 40\u001b[0m             \u001b[38;5;28mhex\u001b[39m(get_buffered_gas_estimate(w3, transaction)),\n\u001b[0;32m     41\u001b[0m         )\n\u001b[0;32m     42\u001b[0m         \u001b[38;5;28;01mreturn\u001b[39;00m make_request(method, [transaction])\n\u001b[0;32m     43\u001b[0m \u001b[38;5;28;01mreturn\u001b[39;00m make_request(method, params)\n",
      "File \u001b[1;32mc:\\Users\\teunh\\Anaconda3\\Lib\\site-packages\\web3\\_utils\\transactions.py:154\u001b[0m, in \u001b[0;36mget_buffered_gas_estimate\u001b[1;34m(w3, transaction, gas_buffer)\u001b[0m\n\u001b[0;32m    149\u001b[0m \u001b[38;5;28;01mdef\u001b[39;00m \u001b[38;5;21mget_buffered_gas_estimate\u001b[39m(\n\u001b[0;32m    150\u001b[0m     w3: \u001b[38;5;124m\"\u001b[39m\u001b[38;5;124mWeb3\u001b[39m\u001b[38;5;124m\"\u001b[39m, transaction: TxParams, gas_buffer: \u001b[38;5;28mint\u001b[39m \u001b[38;5;241m=\u001b[39m \u001b[38;5;241m100000\u001b[39m\n\u001b[0;32m    151\u001b[0m ) \u001b[38;5;241m-\u001b[39m\u001b[38;5;241m>\u001b[39m \u001b[38;5;28mint\u001b[39m:\n\u001b[0;32m    152\u001b[0m     gas_estimate_transaction \u001b[38;5;241m=\u001b[39m cast(TxParams, \u001b[38;5;28mdict\u001b[39m(\u001b[38;5;241m*\u001b[39m\u001b[38;5;241m*\u001b[39mtransaction))\n\u001b[1;32m--> 154\u001b[0m     gas_estimate \u001b[38;5;241m=\u001b[39m w3\u001b[38;5;241m.\u001b[39meth\u001b[38;5;241m.\u001b[39mestimate_gas(gas_estimate_transaction)\n\u001b[0;32m    156\u001b[0m     gas_limit \u001b[38;5;241m=\u001b[39m get_block_gas_limit(w3)\n\u001b[0;32m    158\u001b[0m     \u001b[38;5;28;01mif\u001b[39;00m gas_estimate \u001b[38;5;241m>\u001b[39m gas_limit:\n",
      "File \u001b[1;32mc:\\Users\\teunh\\Anaconda3\\Lib\\site-packages\\web3\\eth\\eth.py:311\u001b[0m, in \u001b[0;36mEth.estimate_gas\u001b[1;34m(self, transaction, block_identifier)\u001b[0m\n\u001b[0;32m    308\u001b[0m \u001b[38;5;28;01mdef\u001b[39;00m \u001b[38;5;21mestimate_gas\u001b[39m(\n\u001b[0;32m    309\u001b[0m     \u001b[38;5;28mself\u001b[39m, transaction: TxParams, block_identifier: Optional[BlockIdentifier] \u001b[38;5;241m=\u001b[39m \u001b[38;5;28;01mNone\u001b[39;00m\n\u001b[0;32m    310\u001b[0m ) \u001b[38;5;241m-\u001b[39m\u001b[38;5;241m>\u001b[39m \u001b[38;5;28mint\u001b[39m:\n\u001b[1;32m--> 311\u001b[0m     \u001b[38;5;28;01mreturn\u001b[39;00m \u001b[38;5;28mself\u001b[39m\u001b[38;5;241m.\u001b[39m_estimate_gas(transaction, block_identifier)\n",
      "File \u001b[1;32mc:\\Users\\teunh\\Anaconda3\\Lib\\site-packages\\web3\\module.py:75\u001b[0m, in \u001b[0;36mretrieve_blocking_method_call_fn.<locals>.caller\u001b[1;34m(*args, **kwargs)\u001b[0m\n\u001b[0;32m     68\u001b[0m     \u001b[38;5;28;01mreturn\u001b[39;00m LogFilter(eth_module\u001b[38;5;241m=\u001b[39mmodule, filter_id\u001b[38;5;241m=\u001b[39merr\u001b[38;5;241m.\u001b[39mfilter_id)\n\u001b[0;32m     70\u001b[0m (\n\u001b[0;32m     71\u001b[0m     result_formatters,\n\u001b[0;32m     72\u001b[0m     error_formatters,\n\u001b[0;32m     73\u001b[0m     null_result_formatters,\n\u001b[0;32m     74\u001b[0m ) \u001b[38;5;241m=\u001b[39m response_formatters\n\u001b[1;32m---> 75\u001b[0m result \u001b[38;5;241m=\u001b[39m w3\u001b[38;5;241m.\u001b[39mmanager\u001b[38;5;241m.\u001b[39mrequest_blocking(\n\u001b[0;32m     76\u001b[0m     method_str, params, error_formatters, null_result_formatters\n\u001b[0;32m     77\u001b[0m )\n\u001b[0;32m     78\u001b[0m \u001b[38;5;28;01mreturn\u001b[39;00m apply_result_formatters(result_formatters, result)\n",
      "File \u001b[1;32mc:\\Users\\teunh\\Anaconda3\\Lib\\site-packages\\web3\\manager.py:325\u001b[0m, in \u001b[0;36mRequestManager.request_blocking\u001b[1;34m(self, method, params, error_formatters, null_result_formatters)\u001b[0m\n\u001b[0;32m    321\u001b[0m \u001b[38;5;250m\u001b[39m\u001b[38;5;124;03m\"\"\"\u001b[39;00m\n\u001b[0;32m    322\u001b[0m \u001b[38;5;124;03mMake a synchronous request using the provider\u001b[39;00m\n\u001b[0;32m    323\u001b[0m \u001b[38;5;124;03m\"\"\"\u001b[39;00m\n\u001b[0;32m    324\u001b[0m response \u001b[38;5;241m=\u001b[39m \u001b[38;5;28mself\u001b[39m\u001b[38;5;241m.\u001b[39m_make_request(method, params)\n\u001b[1;32m--> 325\u001b[0m \u001b[38;5;28;01mreturn\u001b[39;00m \u001b[38;5;28mself\u001b[39m\u001b[38;5;241m.\u001b[39mformatted_response(\n\u001b[0;32m    326\u001b[0m     response, params, error_formatters, null_result_formatters\n\u001b[0;32m    327\u001b[0m )\n",
      "File \u001b[1;32mc:\\Users\\teunh\\Anaconda3\\Lib\\site-packages\\web3\\manager.py:286\u001b[0m, in \u001b[0;36mRequestManager.formatted_response\u001b[1;34m(response, params, error_formatters, null_result_formatters)\u001b[0m\n\u001b[0;32m    281\u001b[0m     \u001b[38;5;28;01mif\u001b[39;00m \u001b[38;5;129;01mnot\u001b[39;00m \u001b[38;5;28misinstance\u001b[39m(error\u001b[38;5;241m.\u001b[39mget(\u001b[38;5;124m\"\u001b[39m\u001b[38;5;124mmessage\u001b[39m\u001b[38;5;124m\"\u001b[39m), \u001b[38;5;28mstr\u001b[39m):\n\u001b[0;32m    282\u001b[0m         _raise_bad_response_format(\n\u001b[0;32m    283\u001b[0m             response, \u001b[38;5;124m\"\u001b[39m\u001b[38;5;124merror[\u001b[39m\u001b[38;5;124m'\u001b[39m\u001b[38;5;124mmessage\u001b[39m\u001b[38;5;124m'\u001b[39m\u001b[38;5;124m] must be a string\u001b[39m\u001b[38;5;124m\"\u001b[39m\n\u001b[0;32m    284\u001b[0m         )\n\u001b[1;32m--> 286\u001b[0m     apply_error_formatters(error_formatters, response)\n\u001b[0;32m    288\u001b[0m     \u001b[38;5;28;01mraise\u001b[39;00m \u001b[38;5;167;01mValueError\u001b[39;00m(error)\n\u001b[0;32m    290\u001b[0m \u001b[38;5;66;03m# Format and validate results\u001b[39;00m\n",
      "File \u001b[1;32mc:\\Users\\teunh\\Anaconda3\\Lib\\site-packages\\web3\\manager.py:103\u001b[0m, in \u001b[0;36mapply_error_formatters\u001b[1;34m(error_formatters, response)\u001b[0m\n\u001b[0;32m     98\u001b[0m \u001b[38;5;28;01mdef\u001b[39;00m \u001b[38;5;21mapply_error_formatters\u001b[39m(\n\u001b[0;32m     99\u001b[0m     error_formatters: Callable[\u001b[38;5;241m.\u001b[39m\u001b[38;5;241m.\u001b[39m\u001b[38;5;241m.\u001b[39m, Any],\n\u001b[0;32m    100\u001b[0m     response: RPCResponse,\n\u001b[0;32m    101\u001b[0m ) \u001b[38;5;241m-\u001b[39m\u001b[38;5;241m>\u001b[39m RPCResponse:\n\u001b[0;32m    102\u001b[0m     \u001b[38;5;28;01mif\u001b[39;00m error_formatters:\n\u001b[1;32m--> 103\u001b[0m         formatted_resp \u001b[38;5;241m=\u001b[39m pipe(response, error_formatters)\n\u001b[0;32m    104\u001b[0m         \u001b[38;5;28;01mreturn\u001b[39;00m formatted_resp\n\u001b[0;32m    105\u001b[0m     \u001b[38;5;28;01melse\u001b[39;00m:\n",
      "File \u001b[1;32mc:\\Users\\teunh\\Anaconda3\\Lib\\site-packages\\cytoolz\\functoolz.pyx:666\u001b[0m, in \u001b[0;36mcytoolz.functoolz.pipe\u001b[1;34m()\u001b[0m\n",
      "File \u001b[1;32mc:\\Users\\teunh\\Anaconda3\\Lib\\site-packages\\cytoolz\\functoolz.pyx:641\u001b[0m, in \u001b[0;36mcytoolz.functoolz.c_pipe\u001b[1;34m()\u001b[0m\n",
      "File \u001b[1;32mc:\\Users\\teunh\\Anaconda3\\Lib\\site-packages\\web3\\_utils\\contract_error_handling.py:154\u001b[0m, in \u001b[0;36mraise_contract_logic_error_on_revert\u001b[1;34m(response)\u001b[0m\n\u001b[0;32m    152\u001b[0m         \u001b[38;5;28;01mraise\u001b[39;00m ContractLogicError(\u001b[38;5;124m\"\u001b[39m\u001b[38;5;124mexecution reverted\u001b[39m\u001b[38;5;124m\"\u001b[39m, data\u001b[38;5;241m=\u001b[39mdata)\n\u001b[0;32m    153\u001b[0m \u001b[38;5;28;01melif\u001b[39;00m \u001b[38;5;28misinstance\u001b[39m(data, \u001b[38;5;28mdict\u001b[39m) \u001b[38;5;129;01mand\u001b[39;00m message_present:\n\u001b[1;32m--> 154\u001b[0m     \u001b[38;5;28;01mraise\u001b[39;00m ContractLogicError(\u001b[38;5;124mf\u001b[39m\u001b[38;5;124m\"\u001b[39m\u001b[38;5;124mexecution reverted: \u001b[39m\u001b[38;5;132;01m{\u001b[39;00mmessage\u001b[38;5;132;01m}\u001b[39;00m\u001b[38;5;124m\"\u001b[39m, data\u001b[38;5;241m=\u001b[39mdata)\n\u001b[0;32m    155\u001b[0m \u001b[38;5;28;01melif\u001b[39;00m \u001b[38;5;28misinstance\u001b[39m(data, \u001b[38;5;28mstr\u001b[39m):\n\u001b[0;32m    156\u001b[0m     _raise_contract_error(data)\n",
      "\u001b[1;31mContractLogicError\u001b[0m: execution reverted: VM Exception while processing transaction: invalid opcode"
     ]
    }
   ],
   "source": [
    "defaultExtensions = [\n",
    "    (\n",
    "        {\n",
    "            \"name\": \"ExName\",\n",
    "            \"metadataURI\": \"ExMetadataURI\",\n",
    "            \"implementation\": accounts[1],\n",
    "        },\n",
    "        [\n",
    "            {(Web3.to_bytes(text='0x70a08231'), 'SomeExtensionFunction1'),()}\n",
    "        ]\n",
    "    )\n",
    "]\n",
    "\n",
    "# Build the transaction dictionary\n",
    "constructor_tx = Contract.constructor(accounts[0], accounts[0], []).transact()\n",
    "# Print the transaction parameters\n",
    "print(\"Transaction Parameters:\", constructor_tx)\n",
    "\n",
    "# Send the transaction\n"
   ]
  },
  {
   "cell_type": "code",
   "execution_count": 41,
   "metadata": {},
   "outputs": [
    {
     "data": {
      "text/plain": [
       "['0x726602C766db7A96cEC7deD7944Df6eE102F9625',\n",
       " '0xCa161765db37130648927b139A8f2C711469b0d4',\n",
       " '0xFA25D7f31e223a4e1F6794D8ceA95e1fB5621ac0',\n",
       " '0x5387bee629fD862D0337CB24a738eE20D86446FB',\n",
       " '0xcf9D8de7AC946F553A0664600d37e718bc612279',\n",
       " '0xBc3B8daedE4e9e9EFbC26DAd3B519Afdb3CeDAf3',\n",
       " '0x63D0a1349Cd7b3b65a2387c3f82e6F671E958899',\n",
       " '0xe5c5bd2BF4AA43EC5ec244789e6D4E34455f2874',\n",
       " '0x1AD68Db3d6D15E3f2E01F25F242229bA8b3b6333',\n",
       " '0x1F0F949EF799ffB690B882c33F7328D3B6259C11']"
      ]
     },
     "execution_count": 41,
     "metadata": {},
     "output_type": "execute_result"
    }
   ],
   "source": [
    "accounts = w3.eth.accounts\n",
    "accounts"
   ]
  },
  {
   "cell_type": "code",
   "execution_count": 42,
   "metadata": {},
   "outputs": [
    {
     "ename": "BadFunctionCallOutput",
     "evalue": "Could not transact with/call contract function, is contract deployed correctly and chain synced?",
     "output_type": "error",
     "traceback": [
      "\u001b[1;31m---------------------------------------------------------------------------\u001b[0m",
      "\u001b[1;31mInsufficientDataBytes\u001b[0m                     Traceback (most recent call last)",
      "File \u001b[1;32mc:\\Users\\teunh\\Anaconda3\\Lib\\site-packages\\web3\\contract\\utils.py:111\u001b[0m, in \u001b[0;36mcall_contract_function\u001b[1;34m(w3, address, normalizers, function_identifier, transaction, block_id, contract_abi, fn_abi, state_override, ccip_read_enabled, decode_tuples, *args, **kwargs)\u001b[0m\n\u001b[0;32m    110\u001b[0m \u001b[38;5;28;01mtry\u001b[39;00m:\n\u001b[1;32m--> 111\u001b[0m     output_data \u001b[38;5;241m=\u001b[39m w3\u001b[38;5;241m.\u001b[39mcodec\u001b[38;5;241m.\u001b[39mdecode(output_types, return_data)\n\u001b[0;32m    112\u001b[0m \u001b[38;5;28;01mexcept\u001b[39;00m DecodingError \u001b[38;5;28;01mas\u001b[39;00m e:\n\u001b[0;32m    113\u001b[0m     \u001b[38;5;66;03m# Provide a more helpful error message than the one provided by\u001b[39;00m\n\u001b[0;32m    114\u001b[0m     \u001b[38;5;66;03m# eth-abi-utils\u001b[39;00m\n",
      "File \u001b[1;32mc:\\Users\\teunh\\Anaconda3\\Lib\\site-packages\\eth_abi\\codec.py:161\u001b[0m, in \u001b[0;36mABIDecoder.decode\u001b[1;34m(self, types, data, strict)\u001b[0m\n\u001b[0;32m    159\u001b[0m stream \u001b[38;5;241m=\u001b[39m \u001b[38;5;28mself\u001b[39m\u001b[38;5;241m.\u001b[39mstream_class(data)\n\u001b[1;32m--> 161\u001b[0m \u001b[38;5;28;01mreturn\u001b[39;00m decoder(stream)\n",
      "File \u001b[1;32mc:\\Users\\teunh\\Anaconda3\\Lib\\site-packages\\eth_abi\\decoding.py:130\u001b[0m, in \u001b[0;36mBaseDecoder.__call__\u001b[1;34m(self, stream)\u001b[0m\n\u001b[0;32m    129\u001b[0m \u001b[38;5;28;01mdef\u001b[39;00m \u001b[38;5;21m__call__\u001b[39m(\u001b[38;5;28mself\u001b[39m, stream: ContextFramesBytesIO) \u001b[38;5;241m-\u001b[39m\u001b[38;5;241m>\u001b[39m Any:\n\u001b[1;32m--> 130\u001b[0m     \u001b[38;5;28;01mreturn\u001b[39;00m \u001b[38;5;28mself\u001b[39m\u001b[38;5;241m.\u001b[39mdecode(stream)\n",
      "File \u001b[1;32mc:\\Users\\teunh\\Anaconda3\\Lib\\site-packages\\eth_utils\\functional.py:45\u001b[0m, in \u001b[0;36mapply_to_return_value.<locals>.outer.<locals>.inner\u001b[1;34m(*args, **kwargs)\u001b[0m\n\u001b[0;32m     43\u001b[0m \u001b[38;5;129m@functools\u001b[39m\u001b[38;5;241m.\u001b[39mwraps(fn)\n\u001b[0;32m     44\u001b[0m \u001b[38;5;28;01mdef\u001b[39;00m \u001b[38;5;21minner\u001b[39m(\u001b[38;5;241m*\u001b[39margs, \u001b[38;5;241m*\u001b[39m\u001b[38;5;241m*\u001b[39mkwargs) \u001b[38;5;241m-\u001b[39m\u001b[38;5;241m>\u001b[39m T:  \u001b[38;5;66;03m# type: ignore\u001b[39;00m\n\u001b[1;32m---> 45\u001b[0m     \u001b[38;5;28;01mreturn\u001b[39;00m callback(fn(\u001b[38;5;241m*\u001b[39margs, \u001b[38;5;241m*\u001b[39m\u001b[38;5;241m*\u001b[39mkwargs))\n",
      "File \u001b[1;32mc:\\Users\\teunh\\Anaconda3\\Lib\\site-packages\\eth_abi\\decoding.py:176\u001b[0m, in \u001b[0;36mTupleDecoder.decode\u001b[1;34m(self, stream)\u001b[0m\n\u001b[0;32m    175\u001b[0m \u001b[38;5;28;01mfor\u001b[39;00m decoder \u001b[38;5;129;01min\u001b[39;00m \u001b[38;5;28mself\u001b[39m\u001b[38;5;241m.\u001b[39mdecoders:\n\u001b[1;32m--> 176\u001b[0m     \u001b[38;5;28;01myield\u001b[39;00m decoder(stream)\n",
      "File \u001b[1;32mc:\\Users\\teunh\\Anaconda3\\Lib\\site-packages\\eth_abi\\decoding.py:130\u001b[0m, in \u001b[0;36mBaseDecoder.__call__\u001b[1;34m(self, stream)\u001b[0m\n\u001b[0;32m    129\u001b[0m \u001b[38;5;28;01mdef\u001b[39;00m \u001b[38;5;21m__call__\u001b[39m(\u001b[38;5;28mself\u001b[39m, stream: ContextFramesBytesIO) \u001b[38;5;241m-\u001b[39m\u001b[38;5;241m>\u001b[39m Any:\n\u001b[1;32m--> 130\u001b[0m     \u001b[38;5;28;01mreturn\u001b[39;00m \u001b[38;5;28mself\u001b[39m\u001b[38;5;241m.\u001b[39mdecode(stream)\n",
      "File \u001b[1;32mc:\\Users\\teunh\\Anaconda3\\Lib\\site-packages\\eth_abi\\decoding.py:200\u001b[0m, in \u001b[0;36mSingleDecoder.decode\u001b[1;34m(self, stream)\u001b[0m\n\u001b[0;32m    199\u001b[0m \u001b[38;5;28;01mdef\u001b[39;00m \u001b[38;5;21mdecode\u001b[39m(\u001b[38;5;28mself\u001b[39m, stream):\n\u001b[1;32m--> 200\u001b[0m     raw_data \u001b[38;5;241m=\u001b[39m \u001b[38;5;28mself\u001b[39m\u001b[38;5;241m.\u001b[39mread_data_from_stream(stream)\n\u001b[0;32m    201\u001b[0m     data, padding_bytes \u001b[38;5;241m=\u001b[39m \u001b[38;5;28mself\u001b[39m\u001b[38;5;241m.\u001b[39msplit_data_and_padding(raw_data)\n",
      "File \u001b[1;32mc:\\Users\\teunh\\Anaconda3\\Lib\\site-packages\\eth_abi\\decoding.py:307\u001b[0m, in \u001b[0;36mFixedByteSizeDecoder.read_data_from_stream\u001b[1;34m(self, stream)\u001b[0m\n\u001b[0;32m    306\u001b[0m \u001b[38;5;28;01mif\u001b[39;00m \u001b[38;5;28mlen\u001b[39m(data) \u001b[38;5;241m!=\u001b[39m \u001b[38;5;28mself\u001b[39m\u001b[38;5;241m.\u001b[39mdata_byte_size:\n\u001b[1;32m--> 307\u001b[0m     \u001b[38;5;28;01mraise\u001b[39;00m InsufficientDataBytes(\n\u001b[0;32m    308\u001b[0m         \u001b[38;5;124mf\u001b[39m\u001b[38;5;124m\"\u001b[39m\u001b[38;5;124mTried to read \u001b[39m\u001b[38;5;132;01m{\u001b[39;00m\u001b[38;5;28mself\u001b[39m\u001b[38;5;241m.\u001b[39mdata_byte_size\u001b[38;5;132;01m}\u001b[39;00m\u001b[38;5;124m bytes, \u001b[39m\u001b[38;5;124m\"\u001b[39m\n\u001b[0;32m    309\u001b[0m         \u001b[38;5;124mf\u001b[39m\u001b[38;5;124m\"\u001b[39m\u001b[38;5;124monly got \u001b[39m\u001b[38;5;132;01m{\u001b[39;00m\u001b[38;5;28mlen\u001b[39m(data)\u001b[38;5;132;01m}\u001b[39;00m\u001b[38;5;124m bytes.\u001b[39m\u001b[38;5;124m\"\u001b[39m\n\u001b[0;32m    310\u001b[0m     )\n\u001b[0;32m    312\u001b[0m \u001b[38;5;28;01mreturn\u001b[39;00m data\n",
      "\u001b[1;31mInsufficientDataBytes\u001b[0m: Tried to read 32 bytes, only got 0 bytes.",
      "\nThe above exception was the direct cause of the following exception:\n",
      "\u001b[1;31mBadFunctionCallOutput\u001b[0m                     Traceback (most recent call last)",
      "Cell \u001b[1;32mIn[42], line 2\u001b[0m\n\u001b[0;32m      1\u001b[0m test_byte \u001b[38;5;241m=\u001b[39m Web3\u001b[38;5;241m.\u001b[39mto_bytes(text \u001b[38;5;241m=\u001b[39m \u001b[38;5;124m'\u001b[39m\u001b[38;5;124m0x05416460deb76d57af601be17e777b93592d8d4d4a4096c57876a91c84f4a712\u001b[39m\u001b[38;5;124m'\u001b[39m)\n\u001b[1;32m----> 2\u001b[0m contract\u001b[38;5;241m.\u001b[39mfunctions\u001b[38;5;241m.\u001b[39mcreateAccount(accounts[\u001b[38;5;241m1\u001b[39m], test_byte)\u001b[38;5;241m.\u001b[39mcall({\u001b[38;5;124m'\u001b[39m\u001b[38;5;124mfrom\u001b[39m\u001b[38;5;124m'\u001b[39m:accounts[\u001b[38;5;241m0\u001b[39m]})\n",
      "File \u001b[1;32mc:\\Users\\teunh\\Anaconda3\\Lib\\site-packages\\web3\\contract\\contract.py:305\u001b[0m, in \u001b[0;36mContractFunction.call\u001b[1;34m(self, transaction, block_identifier, state_override, ccip_read_enabled)\u001b[0m\n\u001b[0;32m    301\u001b[0m call_transaction \u001b[38;5;241m=\u001b[39m \u001b[38;5;28mself\u001b[39m\u001b[38;5;241m.\u001b[39m_get_call_txparams(transaction)\n\u001b[0;32m    303\u001b[0m block_id \u001b[38;5;241m=\u001b[39m parse_block_identifier(\u001b[38;5;28mself\u001b[39m\u001b[38;5;241m.\u001b[39mw3, block_identifier)\n\u001b[1;32m--> 305\u001b[0m \u001b[38;5;28;01mreturn\u001b[39;00m call_contract_function(\n\u001b[0;32m    306\u001b[0m     \u001b[38;5;28mself\u001b[39m\u001b[38;5;241m.\u001b[39mw3,\n\u001b[0;32m    307\u001b[0m     \u001b[38;5;28mself\u001b[39m\u001b[38;5;241m.\u001b[39maddress,\n\u001b[0;32m    308\u001b[0m     \u001b[38;5;28mself\u001b[39m\u001b[38;5;241m.\u001b[39m_return_data_normalizers,\n\u001b[0;32m    309\u001b[0m     \u001b[38;5;28mself\u001b[39m\u001b[38;5;241m.\u001b[39mfunction_identifier,\n\u001b[0;32m    310\u001b[0m     call_transaction,\n\u001b[0;32m    311\u001b[0m     block_id,\n\u001b[0;32m    312\u001b[0m     \u001b[38;5;28mself\u001b[39m\u001b[38;5;241m.\u001b[39mcontract_abi,\n\u001b[0;32m    313\u001b[0m     \u001b[38;5;28mself\u001b[39m\u001b[38;5;241m.\u001b[39mabi,\n\u001b[0;32m    314\u001b[0m     state_override,\n\u001b[0;32m    315\u001b[0m     ccip_read_enabled,\n\u001b[0;32m    316\u001b[0m     \u001b[38;5;28mself\u001b[39m\u001b[38;5;241m.\u001b[39mdecode_tuples,\n\u001b[0;32m    317\u001b[0m     \u001b[38;5;241m*\u001b[39m\u001b[38;5;28mself\u001b[39m\u001b[38;5;241m.\u001b[39margs,\n\u001b[0;32m    318\u001b[0m     \u001b[38;5;241m*\u001b[39m\u001b[38;5;241m*\u001b[39m\u001b[38;5;28mself\u001b[39m\u001b[38;5;241m.\u001b[39mkwargs,\n\u001b[0;32m    319\u001b[0m )\n",
      "File \u001b[1;32mc:\\Users\\teunh\\Anaconda3\\Lib\\site-packages\\web3\\contract\\utils.py:129\u001b[0m, in \u001b[0;36mcall_contract_function\u001b[1;34m(w3, address, normalizers, function_identifier, transaction, block_id, contract_abi, fn_abi, state_override, ccip_read_enabled, decode_tuples, *args, **kwargs)\u001b[0m\n\u001b[0;32m    124\u001b[0m     \u001b[38;5;28;01melse\u001b[39;00m:\n\u001b[0;32m    125\u001b[0m         msg \u001b[38;5;241m=\u001b[39m (\n\u001b[0;32m    126\u001b[0m             \u001b[38;5;124mf\u001b[39m\u001b[38;5;124m\"\u001b[39m\u001b[38;5;124mCould not decode contract function call to \u001b[39m\u001b[38;5;132;01m{\u001b[39;00mfunction_identifier\u001b[38;5;132;01m}\u001b[39;00m\u001b[38;5;124m \u001b[39m\u001b[38;5;124m\"\u001b[39m\n\u001b[0;32m    127\u001b[0m             \u001b[38;5;124mf\u001b[39m\u001b[38;5;124m\"\u001b[39m\u001b[38;5;124mwith return data: \u001b[39m\u001b[38;5;132;01m{\u001b[39;00m\u001b[38;5;28mstr\u001b[39m(return_data)\u001b[38;5;132;01m}\u001b[39;00m\u001b[38;5;124m, output_types: \u001b[39m\u001b[38;5;132;01m{\u001b[39;00moutput_types\u001b[38;5;132;01m}\u001b[39;00m\u001b[38;5;124m\"\u001b[39m\n\u001b[0;32m    128\u001b[0m         )\n\u001b[1;32m--> 129\u001b[0m     \u001b[38;5;28;01mraise\u001b[39;00m BadFunctionCallOutput(msg) \u001b[38;5;28;01mfrom\u001b[39;00m \u001b[38;5;21;01me\u001b[39;00m\n\u001b[0;32m    131\u001b[0m _normalizers \u001b[38;5;241m=\u001b[39m itertools\u001b[38;5;241m.\u001b[39mchain(\n\u001b[0;32m    132\u001b[0m     BASE_RETURN_NORMALIZERS,\n\u001b[0;32m    133\u001b[0m     normalizers,\n\u001b[0;32m    134\u001b[0m )\n\u001b[0;32m    135\u001b[0m normalized_data \u001b[38;5;241m=\u001b[39m map_abi_data(_normalizers, output_types, output_data)\n",
      "\u001b[1;31mBadFunctionCallOutput\u001b[0m: Could not transact with/call contract function, is contract deployed correctly and chain synced?"
     ]
    }
   ],
   "source": [
    "test_byte = Web3.to_bytes(text = '0x05416460deb76d57af601be17e777b93592d8d4d4a4096c57876a91c84f4a712')\n",
    "contract.functions.createAccount(accounts[1], test_byte).call({'from':accounts[0]})\n"
   ]
  },
  {
   "cell_type": "code",
   "execution_count": null,
   "metadata": {},
   "outputs": [
    {
     "data": {
      "text/plain": [
       "<Function getLink() bound to ()>"
      ]
     },
     "execution_count": 34,
     "metadata": {},
     "output_type": "execute_result"
    }
   ],
   "source": []
  }
 ],
 "metadata": {
  "kernelspec": {
   "display_name": "base",
   "language": "python",
   "name": "python3"
  },
  "language_info": {
   "codemirror_mode": {
    "name": "ipython",
    "version": 3
   },
   "file_extension": ".py",
   "mimetype": "text/x-python",
   "name": "python",
   "nbconvert_exporter": "python",
   "pygments_lexer": "ipython3",
   "version": "3.11.5"
  }
 },
 "nbformat": 4,
 "nbformat_minor": 2
}
